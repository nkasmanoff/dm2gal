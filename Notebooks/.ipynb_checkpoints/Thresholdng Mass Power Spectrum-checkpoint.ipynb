{
 "cells": [
  {
   "cell_type": "markdown",
   "metadata": {},
   "source": [
    "# Notebook that proves only predicting stellar masses >1e8 is going to recover the same cosmological statistics as if we didn't change it at all. "
   ]
  },
  {
   "cell_type": "code",
   "execution_count": 1,
   "metadata": {},
   "outputs": [],
   "source": [
    "import Pk_library as PKL\n",
    "BoxSize = 75\n",
    "MAS = None\n",
    "threads = 8\n",
    "axis = 0\n",
    "import numpy as np\n",
    "import pandas as pd\n",
    "import h5py\n",
    "from itertools import product\n",
    "import sys\n",
    "\n",
    "\n",
    "import matplotlib.pyplot as plt"
   ]
  },
  {
   "cell_type": "code",
   "execution_count": 2,
   "metadata": {},
   "outputs": [],
   "source": [
    "galaxies_root = '/projects/QUIJOTE/Noah/dm2gal/dat/illustris-data/hydrosim/' # galaxy root\n",
    "gal_pfield = galaxies_root+'stellarmass_TNG100-1_z=0.0.hdf5'\n",
    "density_gal = h5py.File(gal_pfield,'r')['density'][:]\n"
   ]
  },
  {
   "cell_type": "code",
   "execution_count": 3,
   "metadata": {},
   "outputs": [
    {
     "name": "stdout",
     "output_type": "stream",
     "text": [
      "Total mass with none masked is  293494140000000.0  solar masses. \n"
     ]
    }
   ],
   "source": [
    "total_mass_1 = density_gal.sum()\n",
    "\n",
    "print(\"Total mass with none masked is \", total_mass_1, ' solar masses. ')"
   ]
  },
  {
   "cell_type": "code",
   "execution_count": 4,
   "metadata": {},
   "outputs": [
    {
     "name": "stdout",
     "output_type": "stream",
     "text": [
      "\n",
      "Computing power spectrum of the field...\n",
      "Time to complete loop = 453.58\n",
      "Time taken = 826.69 seconds\n"
     ]
    }
   ],
   "source": [
    "\n",
    "Pk = PKL.Pk(density_gal, BoxSize, axis, MAS, threads)\n",
    "\n",
    "# 3D P(k)\n",
    "k       = Pk.k3D\n",
    "Pk0     = Pk.Pk[:,0] #monopole"
   ]
  },
  {
   "cell_type": "code",
   "execution_count": 5,
   "metadata": {},
   "outputs": [],
   "source": [
    "density_gal[density_gal < 1e4] = 0"
   ]
  },
  {
   "cell_type": "code",
   "execution_count": 6,
   "metadata": {},
   "outputs": [
    {
     "name": "stdout",
     "output_type": "stream",
     "text": [
      "\n",
      "Computing power spectrum of the field...\n",
      "Time to complete loop = 459.22\n",
      "Time taken = 850.75 seconds\n"
     ]
    }
   ],
   "source": [
    "\n",
    "Pk = PKL.Pk(density_gal, BoxSize, axis, MAS, threads)\n",
    "\n",
    "# 3D P(k)\n",
    "k       = Pk.k3D\n",
    "Pk_thresh1     = Pk.Pk[:,0] #monopole\n",
    "\n"
   ]
  },
  {
   "cell_type": "code",
   "execution_count": 13,
   "metadata": {},
   "outputs": [],
   "source": [
    "density_gal[density_gal < 1e5] = 0"
   ]
  },
  {
   "cell_type": "code",
   "execution_count": 14,
   "metadata": {},
   "outputs": [
    {
     "name": "stdout",
     "output_type": "stream",
     "text": [
      "Total mass with all values < 1e5 masked is  293477870000000.0  solar masses. \n"
     ]
    }
   ],
   "source": [
    "total_mass_2 = density_gal.sum()\n",
    "\n",
    "print(\"Total mass with all values < 1e5 masked is \", total_mass_2, ' solar masses. ')"
   ]
  },
  {
   "cell_type": "code",
   "execution_count": 15,
   "metadata": {},
   "outputs": [
    {
     "name": "stdout",
     "output_type": "stream",
     "text": [
      "\n",
      "Computing power spectrum of the field...\n",
      "Time to complete loop = 462.87\n",
      "Time taken = 855.84 seconds\n"
     ]
    }
   ],
   "source": [
    "\n",
    "Pk = PKL.Pk(density_gal, BoxSize, axis, MAS, threads)\n",
    "\n",
    "# 3D P(k)\n",
    "Pk_thresh2     = Pk.Pk[:,0] #monopole\n",
    "\n"
   ]
  },
  {
   "cell_type": "code",
   "execution_count": 17,
   "metadata": {},
   "outputs": [],
   "source": [
    "density_gal[density_gal < 1e6] = 0"
   ]
  },
  {
   "cell_type": "code",
   "execution_count": 18,
   "metadata": {},
   "outputs": [
    {
     "name": "stdout",
     "output_type": "stream",
     "text": [
      "Total mass with all values < 1e6 masked is  293289200000000.0  solar masses. \n"
     ]
    }
   ],
   "source": [
    "total_mass_3 = density_gal.sum()\n",
    "\n",
    "print(\"Total mass with all values < 1e6 masked is \", total_mass_3, ' solar masses. ')"
   ]
  },
  {
   "cell_type": "code",
   "execution_count": 19,
   "metadata": {},
   "outputs": [
    {
     "name": "stdout",
     "output_type": "stream",
     "text": [
      "\n",
      "Computing power spectrum of the field...\n",
      "Time to complete loop = 462.56\n",
      "Time taken = 856.72 seconds\n"
     ]
    }
   ],
   "source": [
    "\n",
    "Pk = PKL.Pk(density_gal, BoxSize, axis, MAS, threads)\n",
    "\n",
    "# 3D P(k)\n",
    "Pk_thresh3     = Pk.Pk[:,0] #monopole\n",
    "\n"
   ]
  },
  {
   "cell_type": "code",
   "execution_count": 20,
   "metadata": {},
   "outputs": [],
   "source": [
    "density_gal[density_gal < 1e7] = 0"
   ]
  },
  {
   "cell_type": "code",
   "execution_count": 21,
   "metadata": {},
   "outputs": [
    {
     "name": "stdout",
     "output_type": "stream",
     "text": [
      "Total mass with all values < 1e7 masked is  292175250000000.0  solar masses. \n"
     ]
    }
   ],
   "source": [
    "total_mass_4 = density_gal.sum()\n",
    "\n",
    "print(\"Total mass with all values < 1e7 masked is \", total_mass_4, ' solar masses. ')"
   ]
  },
  {
   "cell_type": "code",
   "execution_count": 22,
   "metadata": {},
   "outputs": [
    {
     "name": "stdout",
     "output_type": "stream",
     "text": [
      "\n",
      "Computing power spectrum of the field...\n",
      "Time to complete loop = 462.93\n",
      "Time taken = 858.18 seconds\n"
     ]
    }
   ],
   "source": [
    "\n",
    "Pk = PKL.Pk(density_gal, BoxSize, axis, MAS, threads)\n",
    "\n",
    "# 3D P(k)\n",
    "Pk_thresh4   = Pk.Pk[:,0] #monopole\n",
    "\n"
   ]
  },
  {
   "cell_type": "code",
   "execution_count": 24,
   "metadata": {},
   "outputs": [],
   "source": [
    "density_gal[density_gal < 1e8] = 0"
   ]
  },
  {
   "cell_type": "code",
   "execution_count": 26,
   "metadata": {},
   "outputs": [
    {
     "name": "stdout",
     "output_type": "stream",
     "text": [
      "Total mass with all values < 1e8 masked is  285810340000000.0  solar masses. \n"
     ]
    }
   ],
   "source": [
    "total_mass_5 = density_gal.sum()\n",
    "\n",
    "print(\"Total mass with all values < 1e8 masked is \", total_mass_5, ' solar masses. ')"
   ]
  },
  {
   "cell_type": "code",
   "execution_count": 27,
   "metadata": {},
   "outputs": [
    {
     "name": "stdout",
     "output_type": "stream",
     "text": [
      "\n",
      "Computing power spectrum of the field...\n",
      "Time to complete loop = 462.45\n",
      "Time taken = 853.04 seconds\n"
     ]
    }
   ],
   "source": [
    "\n",
    "Pk = PKL.Pk(density_gal, BoxSize, axis, MAS, threads)\n",
    "\n",
    "# 3D P(k)\n",
    "Pk_thresh5   = Pk.Pk[:,0] #monopole\n",
    "\n"
   ]
  },
  {
   "cell_type": "code",
   "execution_count": 29,
   "metadata": {},
   "outputs": [],
   "source": [
    "density_gal[density_gal < 1e9] = 0"
   ]
  },
  {
   "cell_type": "code",
   "execution_count": 30,
   "metadata": {},
   "outputs": [
    {
     "name": "stdout",
     "output_type": "stream",
     "text": [
      "Total mass with all values < 1e9 masked is  256435900000000.0  solar masses. \n"
     ]
    }
   ],
   "source": [
    "total_mass_6 = density_gal.sum()\n",
    "\n",
    "print(\"Total mass with all values < 1e9 masked is \", total_mass_6, ' solar masses. ')"
   ]
  },
  {
   "cell_type": "code",
   "execution_count": 31,
   "metadata": {},
   "outputs": [
    {
     "name": "stdout",
     "output_type": "stream",
     "text": [
      "\n",
      "Computing power spectrum of the field...\n",
      "Time to complete loop = 462.94\n",
      "Time taken = 856.58 seconds\n"
     ]
    }
   ],
   "source": [
    "\n",
    "Pk = PKL.Pk(density_gal, BoxSize, axis, MAS, threads)\n",
    "\n",
    "# 3D P(k)\n",
    "Pk_thresh6   = Pk.Pk[:,0] #monopole\n",
    "\n"
   ]
  },
  {
   "cell_type": "code",
   "execution_count": 34,
   "metadata": {},
   "outputs": [
    {
     "data": {
      "text/plain": [
       "<matplotlib.legend.Legend at 0x2af41784cd90>"
      ]
     },
     "execution_count": 34,
     "metadata": {},
     "output_type": "execute_result"
    },
    {
     "data": {
      "image/png": "[encoded data removed]",
      "text/plain": [
       "<Figure size 432x288 with 1 Axes>"
      ]
     },
     "metadata": {
      "needs_background": "light"
     },
     "output_type": "display_data"
    }
   ],
   "source": [
    "plt.plot(k,Pk0,label = 'x > 0')\n",
    "plt.plot(k,Pk_thresh1,label = 'x > 1e4')\n",
    "plt.plot(k,Pk_thresh2,label = 'x > 1e5')\n",
    "plt.plot(k,Pk_thresh3,label = 'x > 1e6')\n",
    "plt.plot(k,Pk_thresh4,label = 'x > 1e7')\n",
    "plt.plot(k,Pk_thresh5,label = 'x > 1e8')\n",
    "plt.plot(k,Pk_thresh6,label = 'x > 1e9')\n",
    "\n",
    "plt.xscale('log')\n",
    "plt.yscale('log')\n",
    "plt.xlabel('k',fontsize = 15)\n",
    "plt.ylabel('P(k)',fontsize = 15)\n",
    "\n",
    "plt.legend()"
   ]
  },
  {
   "cell_type": "code",
   "execution_count": 38,
   "metadata": {},
   "outputs": [
    {
     "data": {
      "text/plain": [
       "<matplotlib.legend.Legend at 0x2af4177cb610>"
      ]
     },
     "execution_count": 38,
     "metadata": {},
     "output_type": "execute_result"
    },
    {
     "data": {
      "image/png": "[encoded data removed]",
      "text/plain": [
       "<Figure size 432x288 with 1 Axes>"
      ]
     },
     "metadata": {
      "needs_background": "light"
     },
     "output_type": "display_data"
    }
   ],
   "source": [
    "#plt.plot(k,Pk0,label = 'x > 0')\n",
    "plt.plot(k,(Pk0 - Pk_thresh1) / Pk0 ,label = 'x > 1e4')\n",
    "plt.plot(k,(Pk0 - Pk_thresh2) / Pk0 ,label = 'x > 1e5')\n",
    "plt.plot(k,(Pk0 - Pk_thresh3) / Pk0 ,label = 'x > 1e6')\n",
    "plt.plot(k,(Pk0 - Pk_thresh4) / Pk0 ,label = 'x > 1e7')\n",
    "plt.plot(k,(Pk0 - Pk_thresh5) / Pk0 ,label = 'x > 1e8')\n",
    "plt.plot(k,(Pk0 - Pk_thresh6) / Pk0 ,label = 'x > 1e9')\n",
    "\n",
    "#plt.plot(k,Pk_thresh2,label = 'x > 1e5')\n",
    "#plt.plot(k,Pk_thresh3,label = 'x > 1e6')\n",
    "#plt.plot(k,Pk_thresh4,label = 'x > 1e7')\n",
    "#plt.plot(k,Pk_thresh5,label = 'x > 1e8')\n",
    "#plt.plot(k,Pk_thresh6,label = 'x > 1e9')\n",
    "\n",
    "\n",
    "\n",
    "plt.xscale('log')\n",
    "plt.yscale('log')\n",
    "plt.xlabel('k',fontsize = 15)\n",
    "plt.ylabel('(Pk_all - Pk_mask) / Pk_all',fontsize = 15)\n",
    "plt.legend()"
   ]
  },
  {
   "cell_type": "code",
   "execution_count": 39,
   "metadata": {},
   "outputs": [
    {
     "data": {
      "text/plain": [
       "293494140000000.0"
      ]
     },
     "execution_count": 39,
     "metadata": {},
     "output_type": "execute_result"
    }
   ],
   "source": [
    "total_mass_1"
   ]
  },
  {
   "cell_type": "code",
   "execution_count": 41,
   "metadata": {},
   "outputs": [],
   "source": [
    "total_masked_masses = [total_mass_2, total_mass_3, total_mass_4,total_mass_5,total_mass_6]\n",
    "\n",
    "pct_mass = []\n",
    "for tm in total_masked_masses:\n",
    "    \n",
    "    pct_mass.append( (total_mass_1 - tm) / total_mass_1)"
   ]
  },
  {
   "cell_type": "code",
   "execution_count": 49,
   "metadata": {},
   "outputs": [],
   "source": [
    "xs = [5,6,7,8,9]"
   ]
  },
  {
   "cell_type": "code",
   "execution_count": 52,
   "metadata": {},
   "outputs": [
    {
     "data": {
      "text/plain": [
       "Text(0, 0.5, '(total_stellar_mass - total_stellar_mass_mask) / total_stellar_mass')"
      ]
     },
     "execution_count": 52,
     "metadata": {},
     "output_type": "execute_result"
    },
    {
     "data": {
      "image/png": "[encoded data removed]",
      "text/plain": [
       "<Figure size 432x288 with 1 Axes>"
      ]
     },
     "metadata": {
      "needs_background": "light"
     },
     "output_type": "display_data"
    }
   ],
   "source": [
    "plt.plot(xs, pct_mass,'o-')\n",
    "plt.xlabel(\"Mask Mass < x\")\n",
    "plt.ylabel(\"(total_stellar_mass - total_stellar_mass_mask) / total_stellar_mass\")"
   ]
  },
  {
   "cell_type": "code",
   "execution_count": 53,
   "metadata": {},
   "outputs": [
    {
     "data": {
      "text/plain": [
       "[5.5448807e-05, 0.00069831195, 0.004493754, 0.02618041, 0.12626567]"
      ]
     },
     "execution_count": 53,
     "metadata": {},
     "output_type": "execute_result"
    }
   ],
   "source": [
    "pct_mass"
   ]
  },
  {
   "cell_type": "code",
   "execution_count": null,
   "metadata": {},
   "outputs": [],
   "source": []
  }
 ],
 "metadata": {
  "kernelspec": {
   "display_name": "Python 3",
   "language": "python",
   "name": "python3"
  },
  "language_info": {
   "codemirror_mode": {
    "name": "ipython",
    "version": 3
   },
   "file_extension": ".py",
   "mimetype": "text/x-python",
   "name": "python",
   "nbconvert_exporter": "python",
   "pygments_lexer": "ipython3",
   "version": "3.7.4"
  }
 },
 "nbformat": 4,
 "nbformat_minor": 4
}
