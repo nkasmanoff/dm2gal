{
 "cells": [
  {
   "cell_type": "code",
   "execution_count": null,
   "metadata": {},
   "outputs": [],
   "source": [
    "import numpy as np\n",
    "import matplotlib.pyplot as plt\n",
    "import seaborn as sns\n",
    "import h5py\n",
    "#plt.style.use('dark_background')\n",
    "%matplotlib inline"
   ]
  },
  {
   "cell_type": "markdown",
   "metadata": {},
   "source": [
    "# Load in predicted + target + benchmark cubes\n"
   ]
  },
  {
   "cell_type": "code",
   "execution_count": null,
   "metadata": {},
   "outputs": [],
   "source": [
    "test_cube = np.load('/projects/QUIJOTE/Noah/dm2gal/dat/processed/central-prediction/test_cube_target.npy')\n",
    "\n",
    "pred_cube = np.load('/projects/QUIJOTE/Noah/dm2gal/dat/processed/central-prediction/test_cube_version_5167072_prediction.npy')\n",
    "benchmark_cube = np.load('/projects/QUIJOTE/Noah/dm2gal/dat/processed/central-prediction/benchmark_cube.npy')\n"
   ]
  },
  {
   "cell_type": "code",
   "execution_count": null,
   "metadata": {},
   "outputs": [],
   "source": [
    "plt.imshow(np.log10(1 + test_cube).mean(axis=1))\n",
    "plt.title(\"True\")"
   ]
  },
  {
   "cell_type": "code",
   "execution_count": null,
   "metadata": {},
   "outputs": [],
   "source": [
    "plt.imshow(np.log10(1 + benchmark_cube).mean(axis=1))\n",
    "plt.title(\"Benchmark\")"
   ]
  },
  {
   "cell_type": "code",
   "execution_count": null,
   "metadata": {},
   "outputs": [],
   "source": [
    "plt.imshow(np.log10(1 + (test_cube - benchmark_cube)).mean(axis=1))\n",
    "plt.title(\"Residual\")"
   ]
  },
  {
   "cell_type": "code",
   "execution_count": null,
   "metadata": {},
   "outputs": [],
   "source": [
    "residual = (test_cube - benchmark_cube)"
   ]
  },
  {
   "cell_type": "code",
   "execution_count": null,
   "metadata": {},
   "outputs": [],
   "source": [
    "plt.hist(residual.flatten())\n",
    "#plt.xscale('log')\n",
    "plt.yscale('log')"
   ]
  },
  {
   "cell_type": "code",
   "execution_count": null,
   "metadata": {},
   "outputs": [],
   "source": [
    "#all darkmatter particles n body sim\n",
    "dm_root = '/projects/QUIJOTE/Noah/dm2gal/dat/illustris-data/dark_matter/' #subhalo root \n",
    "dm_pfield = dm_root+'TNG100-1DM_z=0.0.hdf5'   #note z is in here. \n",
    "delta_cdm = h5py.File(dm_pfield,'r')['delta_cdm'][:]\n",
    "delta_cdm = np.log10(1 + delta_cdm) #normalize"
   ]
  },
  {
   "cell_type": "code",
   "execution_count": null,
   "metadata": {},
   "outputs": [],
   "source": []
  },
  {
   "cell_type": "code",
   "execution_count": null,
   "metadata": {},
   "outputs": [],
   "source": [
    "'%.3e'%pred_cube.sum(), '%.3e'%test_cube.sum(),'%.3e'%benchmark_cube.sum()"
   ]
  },
  {
   "cell_type": "code",
   "execution_count": null,
   "metadata": {},
   "outputs": [],
   "source": [
    "import pandas as pd\n",
    "\n",
    "test_coords = pd.read_csv('../dat/processed/central-prediction/test_coords.csv')"
   ]
  },
  {
   "cell_type": "code",
   "execution_count": null,
   "metadata": {},
   "outputs": [],
   "source": [
    "input_nbody = np.load('../dat/reconstruction-data/central-prediction/dark_matter/dm371_167_484.npy')\n",
    "\n",
    "input_subhalo = np.load('../dat/reconstruction-data/central-prediction/subhalos/subhalo371_167_484.npy')\n"
   ]
  },
  {
   "cell_type": "code",
   "execution_count": null,
   "metadata": {},
   "outputs": [],
   "source": [
    "test_coords.iloc[[5000]]"
   ]
  },
  {
   "cell_type": "code",
   "execution_count": null,
   "metadata": {},
   "outputs": [],
   "source": [
    "i = 484 - 64\n",
    "i - 32, i + 32"
   ]
  },
  {
   "cell_type": "code",
   "execution_count": null,
   "metadata": {},
   "outputs": [],
   "source": [
    "\n",
    "figure, axes = plt.subplots(nrows=1, ncols=5,figsize = (15,7))\n",
    "for ax in axes:\n",
    "    ax.set_xticks([])\n",
    "    ax.set_yticks([])\n",
    "axes[0].imshow(input_nbody.mean(axis=1),cmap='gray')\n",
    "axes[0].set_title(\"                              Input \\n                                 (Dark Matter TNG100-1)\",fontsize=18)\n",
    "axes[1].imshow(input_subhalo.mean(axis=1),cmap='gray')\n",
    "\n",
    "axes[0].set_xlabel(\"2.4 Mpc/h\",fontsize=18)\n",
    "axes[0].set_ylabel(\"2.4 Mpc/h\",fontsize=18)\n",
    "\n",
    "interp_method = 'gaussian'\n",
    "axes[3].imshow(np.log10( 1 + test_cube[271:339,71:135,388:452].mean(axis=1)),interpolation=interp_method,cmap='magma')\n",
    "axes[3].set_title(\"Target\",fontsize=15)\n",
    "axes[2].imshow(np.log10( 1 + pred_cube[271:339,71:135,388:452].mean(axis=1)),interpolation=interp_method,cmap='magma')\n",
    "axes[2].set_title(\"dm2gal\",fontsize=15)\n",
    "\n",
    "axes[4].imshow(np.log10( 1 + benchmark_cube[271:339,71:135,388:452].mean(axis=1)),interpolation=interp_method,cmap='magma')\n",
    "axes[4].set_title(\"HOD\",fontsize=15)\n",
    "#plt.tight_layout()"
   ]
  },
  {
   "cell_type": "code",
   "execution_count": null,
   "metadata": {},
   "outputs": [],
   "source": [
    "75/2048 * 66"
   ]
  },
  {
   "cell_type": "code",
   "execution_count": null,
   "metadata": {},
   "outputs": [],
   "source": [
    "plt.imshow(input_nbody.mean(axis=1),cmap='gray')\n",
    "plt.imshow(input_subhalo.mean(axis=1),cmap='gray')"
   ]
  },
  {
   "cell_type": "code",
   "execution_count": null,
   "metadata": {},
   "outputs": [],
   "source": [
    "plt.imshow(input_subhalo.mean(axis=1),cmap='gray')"
   ]
  },
  {
   "cell_type": "code",
   "execution_count": null,
   "metadata": {},
   "outputs": [],
   "source": [
    "plt.imshow(np.log10( 1 + pred_cube[271:339,71:135,388:452].mean(axis=1)))"
   ]
  },
  {
   "cell_type": "code",
   "execution_count": null,
   "metadata": {},
   "outputs": [],
   "source": [
    "plt.imshow(np.log10( 1 + test_cube[271:339,71:135,388:452].mean(axis=1)))"
   ]
  },
  {
   "cell_type": "code",
   "execution_count": null,
   "metadata": {},
   "outputs": [],
   "source": [
    "plt.imshow(np.log10( 1 + benchmark_cube[271:339,71:135,388:452].mean(axis=1)))"
   ]
  },
  {
   "cell_type": "code",
   "execution_count": null,
   "metadata": {},
   "outputs": [],
   "source": [
    "test_cube = np.load('/projects/QUIJOTE/Noah/dm2gal/dat/processed/central-prediction/test_cube_target.npy')\n",
    "#pred_cube1 = np.load('/projects/QUIJOTE/Noah/dm2gal/dat/processed/central-prediction/test_cube_version_5252039_version_5252039_prediction.npy')\n",
    "pred_cube = np.load('/projects/QUIJOTE/Noah/dm2gal/dat/processed/central-prediction/test_cube_version_5252039_version_5235337_prediction.npy')\n",
    "    \n",
    "#pred_cube2 = np.load('/projects/QUIJOTE/Noah/dm2gal/dat/processed/central-prediction/test_cube_version_5252038_version_5252038_prediction.npy')"
   ]
  },
  {
   "cell_type": "code",
   "execution_count": null,
   "metadata": {},
   "outputs": [],
   "source": [
    "#pred_cube = .5* (pred_cube1 + pred_cube2)"
   ]
  },
  {
   "cell_type": "code",
   "execution_count": null,
   "metadata": {},
   "outputs": [],
   "source": [
    "import Pk_library as PKL\n",
    "BoxSize = 31.82373046875\n",
    "MAS = None\n",
    "threads = 8\n",
    "axis = 0\n"
   ]
  },
  {
   "cell_type": "code",
   "execution_count": null,
   "metadata": {},
   "outputs": [],
   "source": [
    "\n",
    "Pk = PKL.Pk(pred_cube, BoxSize, axis, MAS, threads)\n",
    "\n",
    "# 3D P(k)\n",
    "k       = Pk.k3D\n",
    "Pk_pred     = Pk.Pk[:,0] #monopole"
   ]
  },
  {
   "cell_type": "code",
   "execution_count": null,
   "metadata": {},
   "outputs": [],
   "source": []
  },
  {
   "cell_type": "code",
   "execution_count": null,
   "metadata": {},
   "outputs": [],
   "source": [
    "k = np.load('../src/analysis/target_k_values.npy')\n",
    "Pk_target  = np.load('../src/analysis/target_Pk0_values.npy')\n",
    "\n",
    "Pk_benchmark = np.load('../src/analysis/benchmark_Pk0_values.npy')\n"
   ]
  },
  {
   "cell_type": "code",
   "execution_count": null,
   "metadata": {},
   "outputs": [],
   "source": [
    "plt.plot(k,Pk_target,label = 'target')\n",
    "plt.plot(k,Pk_pred,label = 'dm2gal')\n",
    "plt.plot(k,Pk_benchmark,label = 'benchmark')\n",
    "\n",
    "plt.xscale('log')\n",
    "plt.yscale('log')\n",
    "plt.xlabel('k',fontsize = 15)\n",
    "plt.ylabel('P(k)',fontsize = 15)\n",
    "plt.legend()"
   ]
  },
  {
   "cell_type": "code",
   "execution_count": null,
   "metadata": {
    "scrolled": true
   },
   "outputs": [],
   "source": [
    "plt.plot(k,abs(Pk_target - Pk_benchmark) / Pk_target,'g' ,label = 'benchmark')\n",
    "plt.plot(k,abs(Pk_target - Pk_pred) / Pk_target ,label = 'dm2gal')\n",
    "\n",
    "plt.axhline(.1,)\n",
    "plt.xscale('log')\n",
    "#plt.yscale('log')\n",
    "plt.xlabel('k',fontsize = 15)\n",
    "plt.ylabel('abs(Pk_all - Pk_mask) / Pk_all',fontsize = 15)\n",
    "plt.legend()"
   ]
  },
  {
   "cell_type": "code",
   "execution_count": null,
   "metadata": {},
   "outputs": [],
   "source": [
    "test_cube = np.load('/projects/QUIJOTE/Noah/dm2gal/dat/processed/central-prediction/test_cube_target.npy')\n",
    "\n",
    "pred_cube = np.load('/projects/QUIJOTE/Noah/dm2gal/dat/processed/central-prediction/test_cube_version_5252039_version_5235337_prediction.npy')\n",
    "\n",
    "benchmark_cube = np.load('/projects/QUIJOTE/Noah/dm2gal/dat/processed/central-prediction/benchmark_cube.npy')\n"
   ]
  },
  {
   "cell_type": "code",
   "execution_count": null,
   "metadata": {},
   "outputs": [],
   "source": [
    "pred_cube = pred_cube[pred_cube != 0] \n",
    "test_cube = test_cube[test_cube != 0] \n",
    "benchmark_cube = benchmark_cube[benchmark_cube !=0]"
   ]
  },
  {
   "cell_type": "code",
   "execution_count": null,
   "metadata": {},
   "outputs": [],
   "source": [
    "'%.3e'%pred_cube.sum(), '%.3e'%test_cube.sum(),'%.3e'%benchmark_cube.sum()"
   ]
  },
  {
   "cell_type": "code",
   "execution_count": null,
   "metadata": {},
   "outputs": [],
   "source": [
    "plt.hist(np.log10(test_cube.flatten()) ,label='target',bins=50)\n",
    "plt.hist(np.log10(pred_cube.flatten())  ,label = 'dm2gal',bins=50,alpha=.8)\n",
    "plt.hist(np.log10(benchmark_cube.flatten()) ,label='benchmark',bins=50,alpha=.6)\n",
    "\n",
    "plt.xlabel(\"log $M_{sun}$\",fontsize = 15)\n",
    "plt.ylabel(\"$freq$\",fontsize = 15)\n",
    "plt.legend()\n",
    "\n",
    "\n",
    "plt.yscale('log')\n",
    "#plt.xscale('log')"
   ]
  },
  {
   "cell_type": "markdown",
   "metadata": {},
   "source": [
    "Factor of 3 off. It's not a problem of clustering, it's a problem of matching the amplitude"
   ]
  }
 ],
 "metadata": {
  "kernelspec": {
   "display_name": "Python 3",
   "language": "python",
   "name": "python3"
  },
  "language_info": {
   "codemirror_mode": {
    "name": "ipython",
    "version": 3
   },
   "file_extension": ".py",
   "mimetype": "text/x-python",
   "name": "python",
   "nbconvert_exporter": "python",
   "pygments_lexer": "ipython3",
   "version": "3.7.7"
  }
 },
 "nbformat": 4,
 "nbformat_minor": 4
}
