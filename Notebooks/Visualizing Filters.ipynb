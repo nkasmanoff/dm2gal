{
 "cells": [
  {
   "cell_type": "markdown",
   "metadata": {},
   "source": [
    "What does the best features look like? "
   ]
  },
  {
   "cell_type": "code",
   "execution_count": 9,
   "metadata": {},
   "outputs": [],
   "source": [
    "import torch\n",
    "import sys\n",
    "sys.path.append('../src')\n",
    "from models import NoahNet,BasicBlock\n",
    "import os\n",
    "import matplotlib.pyplot as plt\n",
    "%matplotlib inline"
   ]
  },
  {
   "cell_type": "code",
   "execution_count": 10,
   "metadata": {},
   "outputs": [],
   "source": [
    "model = NoahNet(BasicBlock)"
   ]
  },
  {
   "cell_type": "code",
   "execution_count": 11,
   "metadata": {},
   "outputs": [],
   "source": [
    "f_best_model = '../src/BestModel_model_IllustrisTNG_1.0e-05_1.0e-05_4_z=0.00.pt'"
   ]
  },
  {
   "cell_type": "code",
   "execution_count": 12,
   "metadata": {},
   "outputs": [
    {
     "name": "stdout",
     "output_type": "stream",
     "text": [
      "loading best model...\n"
     ]
    }
   ],
   "source": [
    "# load best-model in case it exists\n",
    "if os.path.exists(f_best_model):  \n",
    "    print('loading best model...')\n",
    "    model.load_state_dict(torch.load(f_best_model,map_location=torch.device('cpu')))\n",
    "    "
   ]
  },
  {
   "cell_type": "code",
   "execution_count": 13,
   "metadata": {
    "scrolled": false
   },
   "outputs": [
    {
     "name": "stdout",
     "output_type": "stream",
     "text": [
      "torch.Size([32, 1, 3, 3, 3])\n",
      "tensor(0.1843, grad_fn=<MaxBackward1>) tensor(-0.1869, grad_fn=<MinBackward1>)\n",
      "torch.Size([32, 32, 3, 3, 3])\n",
      "tensor(0.0316, grad_fn=<MaxBackward1>) tensor(-0.0326, grad_fn=<MinBackward1>)\n",
      "torch.Size([32, 32, 3, 3, 3])\n",
      "tensor(0.0294, grad_fn=<MaxBackward1>) tensor(-0.0321, grad_fn=<MinBackward1>)\n",
      "torch.Size([32, 32, 3, 3, 3])\n",
      "tensor(0.0324, grad_fn=<MaxBackward1>) tensor(-0.0331, grad_fn=<MinBackward1>)\n",
      "torch.Size([32, 32, 3, 3, 3])\n",
      "tensor(0.0339, grad_fn=<MaxBackward1>) tensor(-0.0256, grad_fn=<MinBackward1>)\n",
      "torch.Size([32, 32, 3, 3, 3])\n",
      "tensor(0.0332, grad_fn=<MaxBackward1>) tensor(-0.0346, grad_fn=<MinBackward1>)\n",
      "torch.Size([32, 32, 3, 3, 3])\n",
      "tensor(0.0292, grad_fn=<MaxBackward1>) tensor(-0.0333, grad_fn=<MinBackward1>)\n",
      "torch.Size([32, 32, 3, 3, 3])\n",
      "tensor(0.0291, grad_fn=<MaxBackward1>) tensor(-0.0349, grad_fn=<MinBackward1>)\n",
      "torch.Size([32, 32, 3, 3, 3])\n",
      "tensor(0.0343, grad_fn=<MaxBackward1>) tensor(-0.0321, grad_fn=<MinBackward1>)\n",
      "torch.Size([32, 32, 3, 3, 3])\n",
      "tensor(0.0341, grad_fn=<MaxBackward1>) tensor(-0.0328, grad_fn=<MinBackward1>)\n",
      "torch.Size([32, 32, 3, 3, 3])\n",
      "tensor(0.0353, grad_fn=<MaxBackward1>) tensor(-0.0264, grad_fn=<MinBackward1>)\n",
      "torch.Size([32, 32, 3, 3, 3])\n",
      "tensor(0.0281, grad_fn=<MaxBackward1>) tensor(-0.0282, grad_fn=<MinBackward1>)\n",
      "torch.Size([32, 32, 3, 3, 3])\n",
      "tensor(0.0331, grad_fn=<MaxBackward1>) tensor(-0.0330, grad_fn=<MinBackward1>)\n",
      "torch.Size([32, 32, 3, 3, 3])\n",
      "tensor(0.0335, grad_fn=<MaxBackward1>) tensor(-0.0322, grad_fn=<MinBackward1>)\n",
      "torch.Size([32, 32, 3, 3, 3])\n",
      "tensor(0.0283, grad_fn=<MaxBackward1>) tensor(-0.0327, grad_fn=<MinBackward1>)\n",
      "torch.Size([32, 32, 3, 3, 3])\n",
      "tensor(0.0322, grad_fn=<MaxBackward1>) tensor(-0.0357, grad_fn=<MinBackward1>)\n",
      "torch.Size([32, 32, 3, 3, 3])\n",
      "tensor(0.0368, grad_fn=<MaxBackward1>) tensor(-0.0297, grad_fn=<MinBackward1>)\n",
      "torch.Size([32, 32, 3, 3, 3])\n",
      "tensor(0.0343, grad_fn=<MaxBackward1>) tensor(-0.0327, grad_fn=<MinBackward1>)\n",
      "torch.Size([32, 32, 3, 3, 3])\n",
      "tensor(0.0347, grad_fn=<MaxBackward1>) tensor(-0.0311, grad_fn=<MinBackward1>)\n",
      "torch.Size([32, 32, 3, 3, 3])\n",
      "tensor(0.0332, grad_fn=<MaxBackward1>) tensor(-0.0317, grad_fn=<MinBackward1>)\n",
      "torch.Size([32, 32, 3, 3, 3])\n",
      "tensor(0.0309, grad_fn=<MaxBackward1>) tensor(-0.0330, grad_fn=<MinBackward1>)\n",
      "torch.Size([32, 32, 3, 3, 3])\n",
      "tensor(0.0350, grad_fn=<MaxBackward1>) tensor(-0.0339, grad_fn=<MinBackward1>)\n",
      "torch.Size([32, 32, 3, 3, 3])\n",
      "tensor(0.0314, grad_fn=<MaxBackward1>) tensor(-0.0320, grad_fn=<MinBackward1>)\n",
      "torch.Size([32, 32, 3, 3, 3])\n",
      "tensor(0.0320, grad_fn=<MaxBackward1>) tensor(-0.0287, grad_fn=<MinBackward1>)\n",
      "torch.Size([32, 32, 3, 3, 3])\n",
      "tensor(0.0325, grad_fn=<MaxBackward1>) tensor(-0.0337, grad_fn=<MinBackward1>)\n",
      "torch.Size([32, 32, 3, 3, 3])\n",
      "tensor(0.0344, grad_fn=<MaxBackward1>) tensor(-0.0323, grad_fn=<MinBackward1>)\n",
      "torch.Size([32, 32, 3, 3, 3])\n",
      "tensor(0.0359, grad_fn=<MaxBackward1>) tensor(-0.0326, grad_fn=<MinBackward1>)\n",
      "torch.Size([32, 32, 3, 3, 3])\n",
      "tensor(0.0355, grad_fn=<MaxBackward1>) tensor(-0.0291, grad_fn=<MinBackward1>)\n",
      "torch.Size([32, 32, 3, 3, 3])\n",
      "tensor(0.0301, grad_fn=<MaxBackward1>) tensor(-0.0330, grad_fn=<MinBackward1>)\n",
      "torch.Size([32, 32, 3, 3, 3])\n"
     ]
    },
    {
     "name": "stderr",
     "output_type": "stream",
     "text": [
      "/Users/noahkasmanoff/anaconda3/lib/python3.7/site-packages/ipykernel_launcher.py:5: RuntimeWarning: More than 20 figures have been opened. Figures created through the pyplot interface (`matplotlib.pyplot.figure`) are retained until explicitly closed and may consume too much memory. (To control this warning, see the rcParam `figure.max_open_warning`).\n",
      "  \"\"\"\n"
     ]
    },
    {
     "name": "stdout",
     "output_type": "stream",
     "text": [
      "tensor(0.0289, grad_fn=<MaxBackward1>) tensor(-0.0320, grad_fn=<MinBackward1>)\n",
      "torch.Size([32, 32, 3, 3, 3])\n",
      "tensor(0.0284, grad_fn=<MaxBackward1>) tensor(-0.0348, grad_fn=<MinBackward1>)\n",
      "torch.Size([32, 32, 3, 3, 3])\n",
      "tensor(0.0319, grad_fn=<MaxBackward1>) tensor(-0.0320, grad_fn=<MinBackward1>)\n",
      "torch.Size([32, 32, 3, 3, 3])\n",
      "tensor(0.0313, grad_fn=<MaxBackward1>) tensor(-0.0237, grad_fn=<MinBackward1>)\n"
     ]
    },
    {
     "data": {
      "image/png": "[encoded data removed]",
      "text/plain": [
       "<Figure size 144x144 with 1 Axes>"
      ]
     },
     "metadata": {
      "needs_background": "light"
     },
     "output_type": "display_data"
    },
    {
     "data": {
      "image/png": "[encoded data removed]",
      "text/plain": [
       "<Figure size 144x144 with 1 Axes>"
      ]
     },
     "metadata": {
      "needs_background": "light"
     },
     "output_type": "display_data"
    },
    {
     "data": {
      "image/png": "[encoded data removed]",
      "text/plain": [
       "<Figure size 144x144 with 1 Axes>"
      ]
     },
     "metadata": {
      "needs_background": "light"
     },
     "output_type": "display_data"
    },
    {
     "data": {
      "image/png": "[encoded data removed]",
      "text/plain": [
       "<Figure size 144x144 with 1 Axes>"
      ]
     },
     "metadata": {
      "needs_background": "light"
     },
     "output_type": "display_data"
    },
    {
     "data": {
      "image/png": "[encoded data removed]",
      "text/plain": [
       "<Figure size 144x144 with 1 Axes>"
      ]
     },
     "metadata": {
      "needs_background": "light"
     },
     "output_type": "display_data"
    },
    {
     "data": {
      "image/png": "[encoded data removed]",
      "text/plain": [
       "<Figure size 144x144 with 1 Axes>"
      ]
     },
     "metadata": {
      "needs_background": "light"
     },
     "output_type": "display_data"
    },
    {
     "data": {
      "image/png": "[encoded data removed]",
      "text/plain": [
       "<Figure size 144x144 with 1 Axes>"
      ]
     },
     "metadata": {
      "needs_background": "light"
     },
     "output_type": "display_data"
    },
    {
     "data": {
      "image/png": "[encoded data removed]",
      "text/plain": [
       "<Figure size 144x144 with 1 Axes>"
      ]
     },
     "metadata": {
      "needs_background": "light"
     },
     "output_type": "display_data"
    },
    {
     "data": {
      "image/png": "[encoded data removed]",
      "text/plain": [
       "<Figure size 144x144 with 1 Axes>"
      ]
     },
     "metadata": {
      "needs_background": "light"
     },
     "output_type": "display_data"
    },
    {
     "data": {
      "image/png": "[encoded data removed]",
      "text/plain": [
       "<Figure size 144x144 with 1 Axes>"
      ]
     },
     "metadata": {
      "needs_background": "light"
     },
     "output_type": "display_data"
    },
    {
     "data": {
      "image/png": "[encoded data removed]",
      "text/plain": [
       "<Figure size 144x144 with 1 Axes>"
      ]
     },
     "metadata": {
      "needs_background": "light"
     },
     "output_type": "display_data"
    },
    {
     "data": {
      "image/png": "[encoded data removed]",
      "text/plain": [
       "<Figure size 144x144 with 1 Axes>"
      ]
     },
     "metadata": {
      "needs_background": "light"
     },
     "output_type": "display_data"
    },
    {
     "data": {
      "image/png": "[encoded data removed]",
      "text/plain": [
       "<Figure size 144x144 with 1 Axes>"
      ]
     },
     "metadata": {
      "needs_background": "light"
     },
     "output_type": "display_data"
    },
    {
     "data": {
      "image/png": "[encoded data removed]",
      "text/plain": [
       "<Figure size 144x144 with 1 Axes>"
      ]
     },
     "metadata": {
      "needs_background": "light"
     },
     "output_type": "display_data"
    },
    {
     "data": {
      "image/png": "[encoded data removed]",
      "text/plain": [
       "<Figure size 144x144 with 1 Axes>"
      ]
     },
     "metadata": {
      "needs_background": "light"
     },
     "output_type": "display_data"
    },
    {
     "data": {
      "image/png": "[encoded data removed]",
      "text/plain": [
       "<Figure size 144x144 with 1 Axes>"
      ]
     },
     "metadata": {
      "needs_background": "light"
     },
     "output_type": "display_data"
    },
    {
     "data": {
      "image/png": "[encoded data removed]",
      "text/plain": [
       "<Figure size 144x144 with 1 Axes>"
      ]
     },
     "metadata": {
      "needs_background": "light"
     },
     "output_type": "display_data"
    },
    {
     "data": {
      "image/png": "[encoded data removed]",
      "text/plain": [
       "<Figure size 144x144 with 1 Axes>"
      ]
     },
     "metadata": {
      "needs_background": "light"
     },
     "output_type": "display_data"
    },
    {
     "data": {
      "image/png": "[encoded data removed]",
      "text/plain": [
       "<Figure size 144x144 with 1 Axes>"
      ]
     },
     "metadata": {
      "needs_background": "light"
     },
     "output_type": "display_data"
    },
    {
     "data": {
      "image/png": "[encoded data removed]",
      "text/plain": [
       "<Figure size 144x144 with 1 Axes>"
      ]
     },
     "metadata": {
      "needs_background": "light"
     },
     "output_type": "display_data"
    },
    {
     "data": {
      "image/png": "[encoded data removed]",
      "text/plain": [
       "<Figure size 144x144 with 1 Axes>"
      ]
     },
     "metadata": {
      "needs_background": "light"
     },
     "output_type": "display_data"
    },
    {
     "data": {
      "image/png": "[encoded data removed]",
      "text/plain": [
       "<Figure size 144x144 with 1 Axes>"
      ]
     },
     "metadata": {
      "needs_background": "light"
     },
     "output_type": "display_data"
    },
    {
     "data": {
      "image/png": "[encoded data removed]",
      "text/plain": [
       "<Figure size 144x144 with 1 Axes>"
      ]
     },
     "metadata": {
      "needs_background": "light"
     },
     "output_type": "display_data"
    },
    {
     "data": {
      "image/png": "[encoded data removed]",
      "text/plain": [
       "<Figure size 144x144 with 1 Axes>"
      ]
     },
     "metadata": {
      "needs_background": "light"
     },
     "output_type": "display_data"
    },
    {
     "data": {
      "image/png": "[encoded data removed]",
      "text/plain": [
       "<Figure size 144x144 with 1 Axes>"
      ]
     },
     "metadata": {
      "needs_background": "light"
     },
     "output_type": "display_data"
    },
    {
     "data": {
      "image/png": "[encoded data removed]",
      "text/plain": [
       "<Figure size 144x144 with 1 Axes>"
      ]
     },
     "metadata": {
      "needs_background": "light"
     },
     "output_type": "display_data"
    },
    {
     "data": {
      "image/png": "[encoded data removed]",
      "text/plain": [
       "<Figure size 144x144 with 1 Axes>"
      ]
     },
     "metadata": {
      "needs_background": "light"
     },
     "output_type": "display_data"
    },
    {
     "data": {
      "image/png": "[encoded data removed]",
      "text/plain": [
       "<Figure size 144x144 with 1 Axes>"
      ]
     },
     "metadata": {
      "needs_background": "light"
     },
     "output_type": "display_data"
    },
    {
     "data": {
      "image/png": "[encoded data removed]",
      "text/plain": [
       "<Figure size 144x144 with 1 Axes>"
      ]
     },
     "metadata": {
      "needs_background": "light"
     },
     "output_type": "display_data"
    },
    {
     "data": {
      "image/png": "[encoded data removed]",
      "text/plain": [
       "<Figure size 144x144 with 1 Axes>"
      ]
     },
     "metadata": {
      "needs_background": "light"
     },
     "output_type": "display_data"
    },
    {
     "data": {
      "image/png": "[encoded data removed]",
      "text/plain": [
       "<Figure size 144x144 with 1 Axes>"
      ]
     },
     "metadata": {
      "needs_background": "light"
     },
     "output_type": "display_data"
    },
    {
     "data": {
      "image/png": "[encoded data removed]",
      "text/plain": [
       "<Figure size 144x144 with 1 Axes>"
      ]
     },
     "metadata": {
      "needs_background": "light"
     },
     "output_type": "display_data"
    },
    {
     "data": {
      "image/png": "[encoded data removed]",
      "text/plain": [
       "<Figure size 144x144 with 1 Axes>"
      ]
     },
     "metadata": {
      "needs_background": "light"
     },
     "output_type": "display_data"
    }
   ],
   "source": [
    "for p in model.layer1.parameters():\n",
    "    try:\n",
    "        for k in range(p.shape[1]): # \n",
    "            try:\n",
    "                plt.figure(figsize = (2,2))\n",
    "                print(p.shape)\n",
    "                plt.imshow(p[0][k].detach().numpy().mean(axis=1))\n",
    "                print(p[0][k].max(),p[0][k].min())\n",
    "\n",
    "            except:\n",
    "                pass\n",
    "    except:\n",
    "        pass\n"
   ]
  },
  {
   "cell_type": "markdown",
   "metadata": {},
   "source": [
    "First layer. Largest value closest to smallest which is negative. Is this the edge detector? The compositionality I wouldn't expect to hold as strongly if smoothed"
   ]
  },
  {
   "cell_type": "code",
   "execution_count": null,
   "metadata": {},
   "outputs": [],
   "source": []
  }
 ],
 "metadata": {
  "kernelspec": {
   "display_name": "Python 3",
   "language": "python",
   "name": "python3"
  },
  "language_info": {
   "codemirror_mode": {
    "name": "ipython",
    "version": 3
   },
   "file_extension": ".py",
   "mimetype": "text/x-python",
   "name": "python",
   "nbconvert_exporter": "python",
   "pygments_lexer": "ipython3",
   "version": "3.7.4"
  }
 },
 "nbformat": 4,
 "nbformat_minor": 4
}
